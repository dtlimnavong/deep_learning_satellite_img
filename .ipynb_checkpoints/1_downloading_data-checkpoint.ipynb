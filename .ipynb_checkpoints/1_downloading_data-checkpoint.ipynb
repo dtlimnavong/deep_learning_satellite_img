{
 "cells": [
  {
   "cell_type": "markdown",
   "metadata": {
    "colab_type": "text",
    "id": "view-in-github"
   },
   "source": [
    "[![Open In Colab](https://colab.research.google.com/assets/colab-badge.svg)](https://colab.research.google.com/github/ebgv/Planet--Understanding-the-Amazon-from-Space/blob/master/downloading_from_kaggle.ipynb)"
   ]
  },
  {
   "cell_type": "markdown",
   "metadata": {
    "colab_type": "text",
    "id": "UrCLonzbbmwk"
   },
   "source": [
    "# Loading the data from kaggle"
   ]
  },
  {
   "cell_type": "code",
   "execution_count": 0,
   "metadata": {
    "colab": {},
    "colab_type": "code",
    "id": "6rBtZlj2xhhA"
   },
   "outputs": [],
   "source": [
    "# modify according to kaggle username and key \n",
    "\n",
    "!pip install -U -q kaggle\n",
    "!mkdir -p ~/.kaggle\n",
    "!echo '{\"username\":\"XXX\",\"key\":\"XXX\"}' > ~/.kaggle/kaggle.json \n",
    "!chmod 600 ~/.kaggle/kaggle.json"
   ]
  },
  {
   "cell_type": "code",
   "execution_count": 0,
   "metadata": {
    "colab": {},
    "colab_type": "code",
    "id": "Ygz-8S7JLYad"
   },
   "outputs": [],
   "source": [
    "!mkdir -p data"
   ]
  },
  {
   "cell_type": "code",
   "execution_count": 0,
   "metadata": {
    "colab": {
     "base_uri": "https://localhost:8080/",
     "height": 170
    },
    "colab_type": "code",
    "id": "0rusQAUALxLK",
    "outputId": "d74be657-2232-4b34-cc03-31387e459e5b"
   },
   "outputs": [
    {
     "name": "stdout",
     "output_type": "stream",
     "text": [
      "/content\n",
      "Downloading train_v2.csv.zip to data\n",
      "  0% 0.00/159k [00:00<?, ?B/s]\n",
      "100% 159k/159k [00:00<00:00, 50.9MB/s]\n",
      "/content/data\n",
      "Archive:  train_v2.csv.zip\n",
      "  inflating: /content/data/train_v2.csv  \n",
      "   creating: /content/data/__MACOSX/\n",
      "  inflating: /content/data/__MACOSX/._train_v2.csv  \n"
     ]
    }
   ],
   "source": [
    "# train_v2.csv \n",
    "\n",
    "# downloading from kaggle \n",
    "% cd /content\n",
    "!kaggle competitions download -c planet-understanding-the-amazon-from-space -f train_v2.csv -p data\n",
    "# unzipping\n",
    "% cd /content/data\n",
    "!unzip train_v2.csv.zip -d /content/data"
   ]
  },
  {
   "cell_type": "code",
   "execution_count": 0,
   "metadata": {
    "colab": {
     "base_uri": "https://localhost:8080/",
     "height": 102
    },
    "colab_type": "code",
    "id": "VuHYbk55L36n",
    "outputId": "fe1d1e61-0381-4554-d017-7e032324339f"
   },
   "outputs": [
    {
     "name": "stdout",
     "output_type": "stream",
     "text": [
      "/content\n",
      "Downloading train-jpg.tar.7z to data\n",
      " 99% 593M/600M [00:04<00:00, 123MB/s]\n",
      "100% 600M/600M [00:04<00:00, 137MB/s]\n",
      "/content/data\n"
     ]
    }
   ],
   "source": [
    "# train-jpg.tar.7z\n",
    "# this should take a little time - loading all the images \n",
    "\n",
    "# downloading from kaggle \n",
    "% cd /content\n",
    "!kaggle competitions download -c planet-understanding-the-amazon-from-space -f train-jpg.tar.7z -p data\n",
    "# unzipping \n",
    "% cd /content/data\n",
    "!7z x -so train-jpg.tar.7z | tar xf - -C /content/data"
   ]
  },
  {
   "cell_type": "markdown",
   "metadata": {
    "colab_type": "text",
    "id": "o8bGO9D9bxUJ"
   },
   "source": [
    "# Reading the data"
   ]
  },
  {
   "cell_type": "code",
   "execution_count": 0,
   "metadata": {
    "colab": {},
    "colab_type": "code",
    "id": "uYPD1eSHMBET"
   },
   "outputs": [],
   "source": [
    "import pandas as pd"
   ]
  },
  {
   "cell_type": "code",
   "execution_count": 0,
   "metadata": {
    "colab": {
     "base_uri": "https://localhost:8080/",
     "height": 204
    },
    "colab_type": "code",
    "id": "wRH6BlV6MUg9",
    "outputId": "2a0798fe-e216-4e9f-8dc2-7e45b9d76df4"
   },
   "outputs": [
    {
     "data": {
      "text/html": [
       "<div>\n",
       "<style scoped>\n",
       "    .dataframe tbody tr th:only-of-type {\n",
       "        vertical-align: middle;\n",
       "    }\n",
       "\n",
       "    .dataframe tbody tr th {\n",
       "        vertical-align: top;\n",
       "    }\n",
       "\n",
       "    .dataframe thead th {\n",
       "        text-align: right;\n",
       "    }\n",
       "</style>\n",
       "<table border=\"1\" class=\"dataframe\">\n",
       "  <thead>\n",
       "    <tr style=\"text-align: right;\">\n",
       "      <th></th>\n",
       "      <th>image_name</th>\n",
       "      <th>tags</th>\n",
       "    </tr>\n",
       "  </thead>\n",
       "  <tbody>\n",
       "    <tr>\n",
       "      <th>0</th>\n",
       "      <td>train_0</td>\n",
       "      <td>haze primary</td>\n",
       "    </tr>\n",
       "    <tr>\n",
       "      <th>1</th>\n",
       "      <td>train_1</td>\n",
       "      <td>agriculture clear primary water</td>\n",
       "    </tr>\n",
       "    <tr>\n",
       "      <th>2</th>\n",
       "      <td>train_2</td>\n",
       "      <td>clear primary</td>\n",
       "    </tr>\n",
       "    <tr>\n",
       "      <th>3</th>\n",
       "      <td>train_3</td>\n",
       "      <td>clear primary</td>\n",
       "    </tr>\n",
       "    <tr>\n",
       "      <th>4</th>\n",
       "      <td>train_4</td>\n",
       "      <td>agriculture clear habitation primary road</td>\n",
       "    </tr>\n",
       "  </tbody>\n",
       "</table>\n",
       "</div>"
      ],
      "text/plain": [
       "  image_name                                       tags\n",
       "0    train_0                               haze primary\n",
       "1    train_1            agriculture clear primary water\n",
       "2    train_2                              clear primary\n",
       "3    train_3                              clear primary\n",
       "4    train_4  agriculture clear habitation primary road"
      ]
     },
     "execution_count": 6,
     "metadata": {
      "tags": []
     },
     "output_type": "execute_result"
    }
   ],
   "source": [
    "train_label = pd.read_csv('/content/data/train_v2.csv')\n",
    "train_label.head()"
   ]
  },
  {
   "cell_type": "code",
   "execution_count": 0,
   "metadata": {
    "colab": {
     "base_uri": "https://localhost:8080/",
     "height": 204
    },
    "colab_type": "code",
    "id": "6lgh7tUiThQY",
    "outputId": "1cd94583-64f9-411f-a973-f3af6c1dd65a"
   },
   "outputs": [
    {
     "data": {
      "text/html": [
       "<div>\n",
       "<style scoped>\n",
       "    .dataframe tbody tr th:only-of-type {\n",
       "        vertical-align: middle;\n",
       "    }\n",
       "\n",
       "    .dataframe tbody tr th {\n",
       "        vertical-align: top;\n",
       "    }\n",
       "\n",
       "    .dataframe thead th {\n",
       "        text-align: right;\n",
       "    }\n",
       "</style>\n",
       "<table border=\"1\" class=\"dataframe\">\n",
       "  <thead>\n",
       "    <tr style=\"text-align: right;\">\n",
       "      <th></th>\n",
       "      <th>image_name</th>\n",
       "      <th>tags</th>\n",
       "      <th>weather_tags</th>\n",
       "    </tr>\n",
       "  </thead>\n",
       "  <tbody>\n",
       "    <tr>\n",
       "      <th>0</th>\n",
       "      <td>train_0</td>\n",
       "      <td>haze primary</td>\n",
       "      <td>haze</td>\n",
       "    </tr>\n",
       "    <tr>\n",
       "      <th>1</th>\n",
       "      <td>train_1</td>\n",
       "      <td>agriculture clear primary water</td>\n",
       "      <td>clear</td>\n",
       "    </tr>\n",
       "    <tr>\n",
       "      <th>2</th>\n",
       "      <td>train_2</td>\n",
       "      <td>clear primary</td>\n",
       "      <td>clear</td>\n",
       "    </tr>\n",
       "    <tr>\n",
       "      <th>3</th>\n",
       "      <td>train_3</td>\n",
       "      <td>clear primary</td>\n",
       "      <td>clear</td>\n",
       "    </tr>\n",
       "    <tr>\n",
       "      <th>4</th>\n",
       "      <td>train_4</td>\n",
       "      <td>agriculture clear habitation primary road</td>\n",
       "      <td>clear</td>\n",
       "    </tr>\n",
       "  </tbody>\n",
       "</table>\n",
       "</div>"
      ],
      "text/plain": [
       "  image_name                                       tags weather_tags\n",
       "0    train_0                               haze primary         haze\n",
       "1    train_1            agriculture clear primary water        clear\n",
       "2    train_2                              clear primary        clear\n",
       "3    train_3                              clear primary        clear\n",
       "4    train_4  agriculture clear habitation primary road        clear"
      ]
     },
     "execution_count": 7,
     "metadata": {
      "tags": []
     },
     "output_type": "execute_result"
    }
   ],
   "source": [
    "# creating the weather labels\n",
    "weather_categories = ['partly_cloudy', 'haze', 'cloudy', 'clear']\n",
    "weather_tag_list = [[element for element in tag.split() if element in weather_categories] for tag in train_label['tags']]\n",
    "train_label['weather_tags'] = [''.join(tag) for tag in weather_tag_list]\n",
    "train_label.head()"
   ]
  },
  {
   "cell_type": "markdown",
   "metadata": {
    "colab_type": "text",
    "id": "FsNCSyJSiTA8"
   },
   "source": [
    "# Loading the images "
   ]
  },
  {
   "cell_type": "code",
   "execution_count": 0,
   "metadata": {
    "colab": {
     "base_uri": "https://localhost:8080/",
     "height": 34
    },
    "colab_type": "code",
    "id": "qRzeboiSiMkU",
    "outputId": "40c8b300-1b07-4bfc-bd44-774cbfb6d0fe"
   },
   "outputs": [
    {
     "name": "stdout",
     "output_type": "stream",
     "text": [
      "/content/data/train-jpg\n"
     ]
    }
   ],
   "source": [
    "% cd /content/data/train-jpg"
   ]
  },
  {
   "cell_type": "code",
   "execution_count": 0,
   "metadata": {
    "colab": {},
    "colab_type": "code",
    "id": "Rin5HWW2iXxV"
   },
   "outputs": [],
   "source": [
    "import matplotlib.pyplot as plt\n",
    "import matplotlib.image as mpimg\n",
    "import numpy as np"
   ]
  },
  {
   "cell_type": "code",
   "execution_count": 0,
   "metadata": {
    "colab": {
     "base_uri": "https://localhost:8080/",
     "height": 350
    },
    "colab_type": "code",
    "id": "rVCpPE18iv9m",
    "outputId": "63be603d-96ec-42d2-8964-251773a60c6c"
   },
   "outputs": [
    {
     "data": {
      "image/png": "[encoded data removed]",
      "text/plain": [
       "<matplotlib.figure.Figure at 0x7f34f9290898>"
      ]
     },
     "metadata": {
      "tags": []
     },
     "output_type": "display_data"
    }
   ],
   "source": [
    "img = mpimg.imread('train_1.jpg')\n",
    "imgplot = plt.imshow(img)\n",
    "plt.show()"
   ]
  },
  {
   "cell_type": "markdown",
   "metadata": {
    "colab_type": "text",
    "id": "ANFlBXcmm2MM"
   },
   "source": [
    "# Creating folders by class "
   ]
  },
  {
   "cell_type": "code",
   "execution_count": 0,
   "metadata": {
    "colab": {
     "base_uri": "https://localhost:8080/",
     "height": 173
    },
    "colab_type": "code",
    "id": "R6nHo_r3ocF3",
    "outputId": "c2d4bdec-d0dd-480c-9fee-34ab777d5be1"
   },
   "outputs": [
    {
     "data": {
      "text/html": [
       "<div>\n",
       "<style scoped>\n",
       "    .dataframe tbody tr th:only-of-type {\n",
       "        vertical-align: middle;\n",
       "    }\n",
       "\n",
       "    .dataframe tbody tr th {\n",
       "        vertical-align: top;\n",
       "    }\n",
       "\n",
       "    .dataframe thead th {\n",
       "        text-align: right;\n",
       "    }\n",
       "</style>\n",
       "<table border=\"1\" class=\"dataframe\">\n",
       "  <thead>\n",
       "    <tr style=\"text-align: right;\">\n",
       "      <th></th>\n",
       "      <th>image_name</th>\n",
       "      <th>tags</th>\n",
       "      <th>weather_tags</th>\n",
       "    </tr>\n",
       "  </thead>\n",
       "  <tbody>\n",
       "    <tr>\n",
       "      <th>count</th>\n",
       "      <td>40479</td>\n",
       "      <td>40479</td>\n",
       "      <td>40479</td>\n",
       "    </tr>\n",
       "    <tr>\n",
       "      <th>unique</th>\n",
       "      <td>40479</td>\n",
       "      <td>449</td>\n",
       "      <td>5</td>\n",
       "    </tr>\n",
       "    <tr>\n",
       "      <th>top</th>\n",
       "      <td>train_23526</td>\n",
       "      <td>clear primary</td>\n",
       "      <td>clear</td>\n",
       "    </tr>\n",
       "    <tr>\n",
       "      <th>freq</th>\n",
       "      <td>1</td>\n",
       "      <td>13636</td>\n",
       "      <td>28431</td>\n",
       "    </tr>\n",
       "  </tbody>\n",
       "</table>\n",
       "</div>"
      ],
      "text/plain": [
       "         image_name           tags weather_tags\n",
       "count         40479          40479        40479\n",
       "unique        40479            449            5\n",
       "top     train_23526  clear primary        clear\n",
       "freq              1          13636        28431"
      ]
     },
     "execution_count": 11,
     "metadata": {
      "tags": []
     },
     "output_type": "execute_result"
    }
   ],
   "source": [
    "train_label.describe()"
   ]
  },
  {
   "cell_type": "code",
   "execution_count": 0,
   "metadata": {
    "colab": {
     "base_uri": "https://localhost:8080/",
     "height": 34
    },
    "colab_type": "code",
    "id": "JTloR1Djm0uM",
    "outputId": "31003c36-50e1-4179-fbf1-8492008d5a82"
   },
   "outputs": [
    {
     "data": {
      "text/plain": [
       "449"
      ]
     },
     "execution_count": 12,
     "metadata": {
      "tags": []
     },
     "output_type": "execute_result"
    }
   ],
   "source": [
    "len(train_label['tags'].unique()) # number of categories "
   ]
  },
  {
   "cell_type": "code",
   "execution_count": 0,
   "metadata": {
    "colab": {
     "base_uri": "https://localhost:8080/",
     "height": 34
    },
    "colab_type": "code",
    "id": "BPwEBBq_nO4d",
    "outputId": "cf67b14a-11a8-4986-f070-b82f6d9c51fc"
   },
   "outputs": [
    {
     "data": {
      "text/plain": [
       "(40479, 3)"
      ]
     },
     "execution_count": 13,
     "metadata": {
      "tags": []
     },
     "output_type": "execute_result"
    }
   ],
   "source": [
    "train_label.shape # number of individuals "
   ]
  },
  {
   "cell_type": "code",
   "execution_count": 0,
   "metadata": {
    "colab": {
     "base_uri": "https://localhost:8080/",
     "height": 235
    },
    "colab_type": "code",
    "id": "ANhKGCVps7Bv",
    "outputId": "b3aa3093-15e9-4464-8749-ac903c11e1e3"
   },
   "outputs": [
    {
     "data": {
      "text/html": [
       "<div>\n",
       "<style scoped>\n",
       "    .dataframe tbody tr th:only-of-type {\n",
       "        vertical-align: middle;\n",
       "    }\n",
       "\n",
       "    .dataframe tbody tr th {\n",
       "        vertical-align: top;\n",
       "    }\n",
       "\n",
       "    .dataframe thead th {\n",
       "        text-align: right;\n",
       "    }\n",
       "</style>\n",
       "<table border=\"1\" class=\"dataframe\">\n",
       "  <thead>\n",
       "    <tr style=\"text-align: right;\">\n",
       "      <th></th>\n",
       "      <th>image_name</th>\n",
       "      <th>tags</th>\n",
       "    </tr>\n",
       "    <tr>\n",
       "      <th>weather_tags</th>\n",
       "      <th></th>\n",
       "      <th></th>\n",
       "    </tr>\n",
       "  </thead>\n",
       "  <tbody>\n",
       "    <tr>\n",
       "      <th>clear</th>\n",
       "      <td>28431</td>\n",
       "      <td>28431</td>\n",
       "    </tr>\n",
       "    <tr>\n",
       "      <th>partly_cloudy</th>\n",
       "      <td>7261</td>\n",
       "      <td>7261</td>\n",
       "    </tr>\n",
       "    <tr>\n",
       "      <th>haze</th>\n",
       "      <td>2697</td>\n",
       "      <td>2697</td>\n",
       "    </tr>\n",
       "    <tr>\n",
       "      <th>cloudy</th>\n",
       "      <td>2089</td>\n",
       "      <td>2089</td>\n",
       "    </tr>\n",
       "    <tr>\n",
       "      <th></th>\n",
       "      <td>1</td>\n",
       "      <td>1</td>\n",
       "    </tr>\n",
       "  </tbody>\n",
       "</table>\n",
       "</div>"
      ],
      "text/plain": [
       "               image_name   tags\n",
       "weather_tags                    \n",
       "clear               28431  28431\n",
       "partly_cloudy        7261   7261\n",
       "haze                 2697   2697\n",
       "cloudy               2089   2089\n",
       "                        1      1"
      ]
     },
     "execution_count": 14,
     "metadata": {
      "tags": []
     },
     "output_type": "execute_result"
    }
   ],
   "source": [
    "train_label.groupby(['weather_tags']).count().sort_values(by = 'image_name', ascending = False).head(5)"
   ]
  },
  {
   "cell_type": "markdown",
   "metadata": {
    "colab_type": "text",
    "id": "fCl0L5_hxYOk"
   },
   "source": [
    "# Creating train/test folders"
   ]
  },
  {
   "cell_type": "code",
   "execution_count": 0,
   "metadata": {
    "colab": {},
    "colab_type": "code",
    "id": "75efDtS4xdVu"
   },
   "outputs": [],
   "source": [
    "import shutil"
   ]
  },
  {
   "cell_type": "code",
   "execution_count": 0,
   "metadata": {
    "colab": {},
    "colab_type": "code",
    "id": "3VDdXaHhxhSw"
   },
   "outputs": [],
   "source": [
    "def copy_files_to_folder(list_files, new_folder): # list of files and new folder name as string \n",
    "    !mkdir $new_folder\n",
    "    for file in list_files: \n",
    "        shutil.copy('/content/data/train-jpg/{}.jpg'.format(file), new_folder)"
   ]
  },
  {
   "cell_type": "code",
   "execution_count": 0,
   "metadata": {
    "colab": {},
    "colab_type": "code",
    "id": "H5OOwwzgyszV"
   },
   "outputs": [],
   "source": [
    "weather_list = ['partly_cloudy', 'haze', 'cloudy', 'clear']\n",
    "#weather_list = ['cloudy', 'clear']"
   ]
  },
  {
   "cell_type": "code",
   "execution_count": 0,
   "metadata": {
    "colab": {},
    "colab_type": "code",
    "id": "CW8D3v5GuXJf"
   },
   "outputs": [],
   "source": [
    "from random import sample\n",
    "\n",
    "# storing the test-train split of image_names \n",
    "groups = dict()\n",
    "for group_name in weather_list:\n",
    "\n",
    "    full_names = list(train_label['image_name'][train_label['weather_tags'] == group_name])\n",
    "    shuffled_names = sample(full_names, k=len(full_names))\n",
    "    # splitting image names into train-val-test\n",
    "    sub_groups = dict()\n",
    "    sub_groups['train_names'] = shuffled_names[:int(0.6*len(shuffled_names))]\n",
    "    sub_groups['validation_names'] = shuffled_names[int(0.6*len(shuffled_names))+1:int(0.8*len(shuffled_names))]\n",
    "    sub_groups['test_names'] = shuffled_names[int(0.8*len(shuffled_names))+1:]\n",
    "    groups[group_name] = sub_groups"
   ]
  },
  {
   "cell_type": "markdown",
   "metadata": {
    "colab_type": "text",
    "id": "Y9kdU1N_uPFt"
   },
   "source": [
    "# Train"
   ]
  },
  {
   "cell_type": "code",
   "execution_count": 0,
   "metadata": {
    "colab": {
     "base_uri": "https://localhost:8080/",
     "height": 51
    },
    "colab_type": "code",
    "id": "7BytNy_wyQc5",
    "outputId": "4663d62a-5ae0-49d0-f1e1-b17b26fb20c6"
   },
   "outputs": [
    {
     "name": "stdout",
     "output_type": "stream",
     "text": [
      "/content/data\n",
      "/content/data/train\n"
     ]
    }
   ],
   "source": [
    "% cd /content/data\n",
    "! mkdir train\n",
    "% cd train"
   ]
  },
  {
   "cell_type": "code",
   "execution_count": 0,
   "metadata": {
    "colab": {
     "base_uri": "https://localhost:8080/",
     "height": 34
    },
    "colab_type": "code",
    "id": "fnPxLJI2HY8m",
    "outputId": "f8a567eb-c5d7-4cc6-f81f-3e6b8c564f7d"
   },
   "outputs": [
    {
     "name": "stdout",
     "output_type": "stream",
     "text": [
      "/content/data/train\n"
     ]
    }
   ],
   "source": [
    "%cd /content/data/train\n",
    "\n",
    "for group_name in weather_list:\n",
    "  image_names = groups[group_name]['train_names'] # groups are defined above \n",
    "  copy_files_to_folder(image_names, group_name)"
   ]
  },
  {
   "cell_type": "markdown",
   "metadata": {
    "colab_type": "text",
    "id": "Zdtf2jV1ichx"
   },
   "source": [
    "#Validate"
   ]
  },
  {
   "cell_type": "code",
   "execution_count": 0,
   "metadata": {
    "colab": {
     "base_uri": "https://localhost:8080/",
     "height": 51
    },
    "colab_type": "code",
    "id": "2kCQLbj5igZ2",
    "outputId": "1c2c3eed-3bb8-425c-c3a3-db799589bac1"
   },
   "outputs": [
    {
     "name": "stdout",
     "output_type": "stream",
     "text": [
      "/content/data\n",
      "/content/data/validation\n"
     ]
    }
   ],
   "source": [
    "% cd /content/data\n",
    "! mkdir validation\n",
    "% cd validation"
   ]
  },
  {
   "cell_type": "code",
   "execution_count": 0,
   "metadata": {
    "colab": {
     "base_uri": "https://localhost:8080/",
     "height": 34
    },
    "colab_type": "code",
    "id": "B9FnJFa8iilM",
    "outputId": "7b135e2b-2845-48d6-8675-168a78998419"
   },
   "outputs": [
    {
     "name": "stdout",
     "output_type": "stream",
     "text": [
      "/content/data/validation\n"
     ]
    }
   ],
   "source": [
    "%cd /content/data/validation\n",
    "\n",
    "for group_name in weather_list:\n",
    "  image_names = groups[group_name]['validation_names'] # groups are defined above \n",
    "  copy_files_to_folder(image_names, group_name)"
   ]
  },
  {
   "cell_type": "markdown",
   "metadata": {
    "colab_type": "text",
    "id": "jkK-bfePz8nl"
   },
   "source": [
    "# Test"
   ]
  },
  {
   "cell_type": "code",
   "execution_count": 0,
   "metadata": {
    "colab": {
     "base_uri": "https://localhost:8080/",
     "height": 51
    },
    "colab_type": "code",
    "id": "Ai4eZB6Dz-OB",
    "outputId": "f1100775-ccd0-4ddb-8f58-97ba4d561231"
   },
   "outputs": [
    {
     "name": "stdout",
     "output_type": "stream",
     "text": [
      "/content/data\n",
      "/content/data/test\n"
     ]
    }
   ],
   "source": [
    "% cd /content/data\n",
    "! mkdir test\n",
    "% cd test"
   ]
  },
  {
   "cell_type": "code",
   "execution_count": 0,
   "metadata": {
    "colab": {
     "base_uri": "https://localhost:8080/",
     "height": 34
    },
    "colab_type": "code",
    "id": "DhN-cguh0EL7",
    "outputId": "9b0d39a3-bb3e-4e87-d1ae-6526575a0fa5"
   },
   "outputs": [
    {
     "name": "stdout",
     "output_type": "stream",
     "text": [
      "/content/data/test\n"
     ]
    }
   ],
   "source": [
    "%cd /content/data/test\n",
    "\n",
    "for group_name in weather_list:\n",
    "  image_names = groups[group_name]['test_names'] # groups are defined above \n",
    "  copy_files_to_folder(image_names, group_name)"
   ]
  },
  {
   "cell_type": "markdown",
   "metadata": {
    "colab_type": "text",
    "id": "BH8o3pNZGfkr"
   },
   "source": [
    "# Creating sub sample data to check the pipeline"
   ]
  },
  {
   "cell_type": "code",
   "execution_count": 0,
   "metadata": {
    "colab": {
     "base_uri": "https://localhost:8080/",
     "height": 34
    },
    "colab_type": "code",
    "id": "WHHQ51nqFqOv",
    "outputId": "dcdd5830-f32a-4e25-c459-07aafe62940d"
   },
   "outputs": [
    {
     "name": "stdout",
     "output_type": "stream",
     "text": [
      "/content/data\n"
     ]
    }
   ],
   "source": [
    "% cd /content/data\n",
    "! mkdir sample "
   ]
  },
  {
   "cell_type": "markdown",
   "metadata": {
    "colab_type": "text",
    "id": "fLXrB5FT0fGm"
   },
   "source": [
    "# Train"
   ]
  },
  {
   "cell_type": "code",
   "execution_count": 0,
   "metadata": {
    "colab": {
     "base_uri": "https://localhost:8080/",
     "height": 51
    },
    "colab_type": "code",
    "id": "dqHkUNEDHdrZ",
    "outputId": "791b2ca2-803a-4abb-d723-cb8d2b21348b"
   },
   "outputs": [
    {
     "name": "stdout",
     "output_type": "stream",
     "text": [
      "/content/data/sample\n",
      "/content/data/sample/train\n"
     ]
    }
   ],
   "source": [
    "% cd /content/data/sample\n",
    "! mkdir train\n",
    "% cd train"
   ]
  },
  {
   "cell_type": "code",
   "execution_count": 0,
   "metadata": {
    "colab": {
     "base_uri": "https://localhost:8080/",
     "height": 34
    },
    "colab_type": "code",
    "id": "-H56ZGmfxncM",
    "outputId": "130b0804-d8ee-4021-c094-e902ded3dcff"
   },
   "outputs": [
    {
     "name": "stdout",
     "output_type": "stream",
     "text": [
      "/content/data/sample/train\n"
     ]
    }
   ],
   "source": [
    "%cd /content/data/sample/train\n",
    "\n",
    "sample_size = 20 \n",
    "\n",
    "for group_name in weather_list:\n",
    "  image_names = groups[group_name]['train_names'][:sample_size]\n",
    "  copy_files_to_folder(image_names, group_name)"
   ]
  },
  {
   "cell_type": "markdown",
   "metadata": {
    "colab_type": "text",
    "id": "_PRMxC8biuhE"
   },
   "source": [
    "#Validation"
   ]
  },
  {
   "cell_type": "code",
   "execution_count": 0,
   "metadata": {
    "colab": {
     "base_uri": "https://localhost:8080/",
     "height": 51
    },
    "colab_type": "code",
    "id": "e6cZ_wDzixt6",
    "outputId": "a37a4222-7695-4d92-e2bf-f5b89334aa21"
   },
   "outputs": [
    {
     "name": "stdout",
     "output_type": "stream",
     "text": [
      "/content/data/sample\n",
      "/content/data/sample/validation\n"
     ]
    }
   ],
   "source": [
    "% cd /content/data/sample\n",
    "! mkdir validation\n",
    "% cd validation"
   ]
  },
  {
   "cell_type": "code",
   "execution_count": 0,
   "metadata": {
    "colab": {
     "base_uri": "https://localhost:8080/",
     "height": 34
    },
    "colab_type": "code",
    "id": "EYBQxCgmi0sv",
    "outputId": "e5ac97d1-4327-4f7f-9eaa-c62e75184cd9"
   },
   "outputs": [
    {
     "name": "stdout",
     "output_type": "stream",
     "text": [
      "/content/data/sample/validation\n"
     ]
    }
   ],
   "source": [
    "%cd /content/data/sample/validation\n",
    "\n",
    "sample_size = 20 \n",
    "\n",
    "for group_name in weather_list:\n",
    "  image_names = groups[group_name]['validation_names'][:sample_size]\n",
    "  copy_files_to_folder(image_names, group_name)"
   ]
  },
  {
   "cell_type": "markdown",
   "metadata": {
    "colab_type": "text",
    "id": "xLMOxbda0xqQ"
   },
   "source": [
    "# Test"
   ]
  },
  {
   "cell_type": "code",
   "execution_count": 0,
   "metadata": {
    "colab": {
     "base_uri": "https://localhost:8080/",
     "height": 51
    },
    "colab_type": "code",
    "id": "JSdjP9TK00f2",
    "outputId": "62b6432b-3ec4-4de7-ba68-2cba6f20d99c"
   },
   "outputs": [
    {
     "name": "stdout",
     "output_type": "stream",
     "text": [
      "/content/data/sample\n",
      "/content/data/sample/test\n"
     ]
    }
   ],
   "source": [
    "% cd /content/data/sample\n",
    "! mkdir test\n",
    "% cd test"
   ]
  },
  {
   "cell_type": "code",
   "execution_count": 0,
   "metadata": {
    "colab": {
     "base_uri": "https://localhost:8080/",
     "height": 34
    },
    "colab_type": "code",
    "id": "R6M4K_a11TwI",
    "outputId": "ae02cd7f-8325-44f7-aeae-19aee37a659c"
   },
   "outputs": [
    {
     "name": "stdout",
     "output_type": "stream",
     "text": [
      "/content/data/sample/test\n"
     ]
    }
   ],
   "source": [
    "%cd /content/data/sample/test\n",
    "\n",
    "sample_size = 20 \n",
    "\n",
    "for group_name in weather_list:\n",
    "  image_names = groups[group_name]['test_names'][:sample_size]\n",
    "  copy_files_to_folder(image_names, group_name)"
   ]
  },
  {
   "cell_type": "code",
   "execution_count": 0,
   "metadata": {
    "colab": {
     "base_uri": "https://localhost:8080/",
     "height": 51
    },
    "colab_type": "code",
    "id": "9jQ7k32RsV1t",
    "outputId": "be62c43f-0086-40ec-8d15-a7169ec259b8"
   },
   "outputs": [
    {
     "name": "stdout",
     "output_type": "stream",
     "text": [
      "/content/data/sample/train\n",
      "\u001b[0m\u001b[01;34mclear\u001b[0m/  \u001b[01;34mcloudy\u001b[0m/  \u001b[01;34mhaze\u001b[0m/  \u001b[01;34mpartly_cloudy\u001b[0m/\n"
     ]
    }
   ],
   "source": [
    "%cd /content/data/sample/train\n",
    "%ls"
   ]
  }
 ],
 "metadata": {
  "accelerator": "GPU",
  "colab": {
   "collapsed_sections": [],
   "name": "1.downloading_data.ipynb",
   "provenance": [],
   "version": "0.3.2"
  },
  "kernelspec": {
   "display_name": "Python 3",
   "language": "python",
   "name": "python3"
  },
  "language_info": {
   "codemirror_mode": {
    "name": "ipython",
    "version": 3
   },
   "file_extension": ".py",
   "mimetype": "text/x-python",
   "name": "python",
   "nbconvert_exporter": "python",
   "pygments_lexer": "ipython3",
   "version": "3.6.5"
  }
 },
 "nbformat": 4,
 "nbformat_minor": 1
}
